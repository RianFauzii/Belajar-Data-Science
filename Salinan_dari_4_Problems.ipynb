{
  "nbformat": 4,
  "nbformat_minor": 0,
  "metadata": {
    "colab": {
      "name": "Salinan dari 4. Problems.ipynb",
      "provenance": [],
      "collapsed_sections": [],
      "include_colab_link": true
    },
    "kernelspec": {
      "name": "python3",
      "display_name": "Python 3"
    }
  },
  "cells": [
    {
      "cell_type": "markdown",
      "metadata": {
        "id": "view-in-github",
        "colab_type": "text"
      },
      "source": [
        "<a href=\"https://colab.research.google.com/github/RianFauzii/Belajar-Data-Science/blob/main/Salinan_dari_4_Problems.ipynb\" target=\"_parent\"><img src=\"https://colab.research.google.com/assets/colab-badge.svg\" alt=\"Open In Colab\"/></a>"
      ]
    },
    {
      "cell_type": "markdown",
      "metadata": {
        "id": "CmWc8EKpqD9t"
      },
      "source": [
        "1. Pak Tono adalah seorang kepala keluarga. Sebagai kepala keluarga yang baik, Pak Tono harus pintar-pintar mengatur keuangan bulanan untuk keluarganya. Secara `default` berikut adalah rincian alokasi dana:\n",
        "    * Kebutuhan sehari-hari: 50%\n",
        "    * Kebutuhan hiburan keluarga: 20%\n",
        "    * Ditabung: 30%\n",
        "\n",
        "Buatlah fungsi untuk membantu Pak Tono menghitung banyaknya uang yang harus ditabung!\n",
        "\n",
        "Input\n",
        "```\n",
        "pemasukan = 10000\n",
        "print(fungsi_anda(10000))\n",
        "print(fungsi_anda(10000, 50))\n",
        "```\n",
        "\n",
        "output\n",
        "```\n",
        "3000\n",
        "5000\n",
        "```"
      ]
    },
    {
      "cell_type": "code",
      "metadata": {
        "id": "ljUvKzk2NwhO",
        "colab": {
          "base_uri": "https://localhost:8080/"
        },
        "outputId": "07156206-edf4-477c-d876-d1c17f4fe7ed"
      },
      "source": [
        "pemasukan = 10000\n",
        "pengeluaran= 50/100\n",
        "def tabungan(pemasukan):\n",
        "  tab = pemasukan*30/100\n",
        "  return tab\n",
        "tabungan(10000)\n",
        "\n",
        "def kebutuhan(pemasukan,pengeluaran):\n",
        "  butuh= pemasukan*pengeluaran\n",
        "  return butuh\n",
        "kebutuhan(10000,0.5)\n",
        "\n",
        "\n",
        "  "
      ],
      "execution_count": 35,
      "outputs": [
        {
          "output_type": "execute_result",
          "data": {
            "text/plain": [
              "5000.0"
            ]
          },
          "metadata": {},
          "execution_count": 35
        }
      ]
    },
    {
      "cell_type": "markdown",
      "metadata": {
        "id": "cPS1U8l9qJoK"
      },
      "source": [
        "2. Besar diskon pada sebuah toko berbanding lurus dengan jumlah barang yang dibeli. Untuk 1 barang diberi diskon sebesar `n%`, 2 barang `2*n%`, 3 barang `3*n%` dan seterusnya. Sampai diskon maksimal adalah `8*n%`. Dengan nilai default `n=7`.\n",
        "\n",
        "    Buatlah fungsi dengan `docstring` untuk menghitung harga akhir diskon dari harga total belanja:\n",
        "    \n",
        "    Input: Harga satuan barang, jumlah barang, diskon default=7\n",
        "    ```\n",
        "    print(fungsi_anda(10000,2))\n",
        "    print(fungsi_anda(10000,3,5))\n",
        "    ```\n",
        "\n",
        "    output: Harga total setelah diskon.\n",
        "    ```\n",
        "    Harga setelah diskon adalah 17200\n",
        "    Harga setelah diskon adalah 25500\n",
        "    ```"
      ]
    },
    {
      "cell_type": "code",
      "metadata": {
        "id": "U1m2zG28NxJd",
        "colab": {
          "base_uri": "https://localhost:8080/"
        },
        "outputId": "1036ce64-1c0b-4e1a-ece8-26bf54f190ff"
      },
      "source": [
        "n=7 #diskon\n",
        "harga= 10000\n",
        "jml = 2\n",
        "\"menghitung diskon dengan inputan harga barang, jumlah barang, diskon \"\n",
        "def diskon(harga,jml,n):\n",
        "  diskon= harga-(jml*n/100*harga)\n",
        "  return diskon\n",
        "\n",
        "print (diskon(10000,2,n))\n",
        "print (diskon(10000,3,5))\n",
        "\n",
        "\n",
        "\n"
      ],
      "execution_count": 48,
      "outputs": [
        {
          "output_type": "stream",
          "name": "stdout",
          "text": [
            "8600.0\n",
            "8500.0\n"
          ]
        }
      ]
    },
    {
      "cell_type": "markdown",
      "metadata": {
        "id": "zwf-qUM1qTcF"
      },
      "source": [
        "3. Buatlah fungsi untuk mengecek apakah suatu string adalah palindrom. Jelaskan cara kerja fungsi di dalam `docstring`.\n",
        "    * Input: string - \"kayak\"\n",
        "    * Output: boolean - TRUE"
      ]
    },
    {
      "cell_type": "code",
      "metadata": {
        "id": "NCjsEwRFNx8U",
        "colab": {
          "base_uri": "https://localhost:8080/"
        },
        "outputId": "5eb01fd3-7ab5-41dd-b709-93d5e68219ca"
      },
      "source": [
        "\n",
        "\"fungsi palindrom untuk mengecek apakah sama atau tidak ketika dibalik\"\n",
        "def palindrom(kata):\n",
        "    return kata == kata[::-1]\n",
        " \n",
        " \n",
        "#input\n",
        "kata = \"kayak\"\n",
        "temp = palindrom(kata)\n",
        "\n",
        "#output\n",
        "if temp:\n",
        "    print(\"TRUE\")\n",
        "else:\n",
        "    print(\"FALSE\")\n"
      ],
      "execution_count": 58,
      "outputs": [
        {
          "output_type": "stream",
          "name": "stdout",
          "text": [
            "TRUE\n"
          ]
        }
      ]
    },
    {
      "cell_type": "markdown",
      "metadata": {
        "id": "QQ_3kW1zxGfX"
      },
      "source": [
        "materi extended slicing: https://docs.python.org/2.3/whatsnew/section-slices.html "
      ]
    },
    {
      "cell_type": "markdown",
      "metadata": {
        "id": "Eh43fVMYqlDf"
      },
      "source": [
        "4. Buatlah fungsi dengan `docstring` untuk menghasilkan output sebagai berikut. Input yang diambil adalah nilai maksimum `n`\n",
        "\n",
        "```\n",
        "1\n",
        "1 2\n",
        ".\n",
        ".\n",
        "1 2 3 . . . n\n",
        "```"
      ]
    },
    {
      "cell_type": "code",
      "metadata": {
        "id": "TpFp-97ANysb",
        "colab": {
          "base_uri": "https://localhost:8080/"
        },
        "outputId": "c59b4a32-9272-481a-c838-92bc84c780a9"
      },
      "source": [
        "jumlah = int(input('Jumlah baris: '))\n",
        "for i in range(1, jumlah+1):\n",
        "  print(\" \".join([str(j) for j in range(1, i+1)]))"
      ],
      "execution_count": 71,
      "outputs": [
        {
          "output_type": "stream",
          "name": "stdout",
          "text": [
            "Jumlah baris: 10\n",
            "1\n",
            "1 2\n",
            "1 2 3\n",
            "1 2 3 4\n",
            "1 2 3 4 5\n",
            "1 2 3 4 5 6\n",
            "1 2 3 4 5 6 7\n",
            "1 2 3 4 5 6 7 8\n",
            "1 2 3 4 5 6 7 8 9\n",
            "1 2 3 4 5 6 7 8 9 10\n"
          ]
        }
      ]
    },
    {
      "cell_type": "markdown",
      "metadata": {
        "id": "jV9nJgkMqzYn"
      },
      "source": [
        "5. Buatlah lambda function untuk menghitung $y = 3x^2 - 4x + 17$"
      ]
    },
    {
      "cell_type": "code",
      "metadata": {
        "id": "8SThDWLGNzKL",
        "colab": {
          "base_uri": "https://localhost:8080/"
        },
        "outputId": "5b0df6cc-9499-4d6d-e773-2e0f4dc29e4a"
      },
      "source": [
        "y = lambda x: (3*x*x)-(4*x)+17\n",
        "print(y(5))"
      ],
      "execution_count": 73,
      "outputs": [
        {
          "output_type": "stream",
          "name": "stdout",
          "text": [
            "72\n"
          ]
        }
      ]
    },
    {
      "cell_type": "markdown",
      "metadata": {
        "id": "C5gMFdp6q1Xs"
      },
      "source": [
        "6. Bu Surti adalah seorang pemilik warung. Suatu hari Bu Surti ingin membuat diskon untuk barang belanjanya. Jika harga barang dibawah 50000 akan diberi diskon 5%, selain itu diberi diskon 10%.\n",
        "\n",
        "    Buatlah fungsi `lambda` untuk membantu Bu Surti:\n",
        "    * Input: Harga belanja\n",
        "    * Output: Harga setelah diskon"
      ]
    },
    {
      "cell_type": "code",
      "metadata": {
        "id": "qTxlWgokNz1k",
        "colab": {
          "base_uri": "https://localhost:8080/"
        },
        "outputId": "420dce7d-8c4f-48d8-c875-5613bc8e2941"
      },
      "source": [
        "diskonan = lambda harga :harga*95/100 if (harga<50000) else harga*90/100\n",
        "print(diskonan(100000))"
      ],
      "execution_count": 82,
      "outputs": [
        {
          "output_type": "stream",
          "name": "stdout",
          "text": [
            "90000.0\n"
          ]
        }
      ]
    }
  ]
}